{
 "cells": [
  {
   "cell_type": "code",
   "execution_count": 2,
   "metadata": {},
   "outputs": [],
   "source": [
    "import pandas as pd"
   ]
  },
  {
   "cell_type": "code",
   "execution_count": 3,
   "metadata": {},
   "outputs": [
    {
     "data": {
      "text/html": [
       "<div>\n",
       "<style scoped>\n",
       "    .dataframe tbody tr th:only-of-type {\n",
       "        vertical-align: middle;\n",
       "    }\n",
       "\n",
       "    .dataframe tbody tr th {\n",
       "        vertical-align: top;\n",
       "    }\n",
       "\n",
       "    .dataframe thead th {\n",
       "        text-align: right;\n",
       "    }\n",
       "</style>\n",
       "<table border=\"1\" class=\"dataframe\">\n",
       "  <thead>\n",
       "    <tr style=\"text-align: right;\">\n",
       "      <th></th>\n",
       "      <th>title</th>\n",
       "      <th>genres</th>\n",
       "    </tr>\n",
       "    <tr>\n",
       "      <th>movieId</th>\n",
       "      <th></th>\n",
       "      <th></th>\n",
       "    </tr>\n",
       "  </thead>\n",
       "  <tbody>\n",
       "    <tr>\n",
       "      <th>1</th>\n",
       "      <td>Toy Story (1995)</td>\n",
       "      <td>Adventure|Animation|Children|Comedy|Fantasy</td>\n",
       "    </tr>\n",
       "    <tr>\n",
       "      <th>2</th>\n",
       "      <td>Jumanji (1995)</td>\n",
       "      <td>Adventure|Children|Fantasy</td>\n",
       "    </tr>\n",
       "    <tr>\n",
       "      <th>3</th>\n",
       "      <td>Grumpier Old Men (1995)</td>\n",
       "      <td>Comedy|Romance</td>\n",
       "    </tr>\n",
       "    <tr>\n",
       "      <th>4</th>\n",
       "      <td>Waiting to Exhale (1995)</td>\n",
       "      <td>Comedy|Drama|Romance</td>\n",
       "    </tr>\n",
       "    <tr>\n",
       "      <th>5</th>\n",
       "      <td>Father of the Bride Part II (1995)</td>\n",
       "      <td>Comedy</td>\n",
       "    </tr>\n",
       "  </tbody>\n",
       "</table>\n",
       "</div>"
      ],
      "text/plain": [
       "                                      title  \\\n",
       "movieId                                       \n",
       "1                          Toy Story (1995)   \n",
       "2                            Jumanji (1995)   \n",
       "3                   Grumpier Old Men (1995)   \n",
       "4                  Waiting to Exhale (1995)   \n",
       "5        Father of the Bride Part II (1995)   \n",
       "\n",
       "                                              genres  \n",
       "movieId                                               \n",
       "1        Adventure|Animation|Children|Comedy|Fantasy  \n",
       "2                         Adventure|Children|Fantasy  \n",
       "3                                     Comedy|Romance  \n",
       "4                               Comedy|Drama|Romance  \n",
       "5                                             Comedy  "
      ]
     },
     "execution_count": 3,
     "metadata": {},
     "output_type": "execute_result"
    }
   ],
   "source": [
    "ratings = pd.read_csv('data/movielens/ratings.csv')\n",
    "movies = pd.read_csv('data/movielens/movies.csv')\n",
    "movies.set_index('movieId',inplace=True)\n",
    "movies.head(5)"
   ]
  },
  {
   "cell_type": "code",
   "execution_count": 21,
   "metadata": {},
   "outputs": [
    {
     "name": "stdout",
     "output_type": "stream",
     "text": [
      "ratings\n"
     ]
    },
    {
     "data": {
      "text/html": [
       "<div>\n",
       "<style scoped>\n",
       "    .dataframe tbody tr th:only-of-type {\n",
       "        vertical-align: middle;\n",
       "    }\n",
       "\n",
       "    .dataframe tbody tr th {\n",
       "        vertical-align: top;\n",
       "    }\n",
       "\n",
       "    .dataframe thead th {\n",
       "        text-align: right;\n",
       "    }\n",
       "</style>\n",
       "<table border=\"1\" class=\"dataframe\">\n",
       "  <thead>\n",
       "    <tr style=\"text-align: right;\">\n",
       "      <th></th>\n",
       "      <th>userId</th>\n",
       "      <th>movieId</th>\n",
       "      <th>rating</th>\n",
       "      <th>timestamp</th>\n",
       "    </tr>\n",
       "  </thead>\n",
       "  <tbody>\n",
       "    <tr>\n",
       "      <th>0</th>\n",
       "      <td>1</td>\n",
       "      <td>31</td>\n",
       "      <td>2.5</td>\n",
       "      <td>1260759144</td>\n",
       "    </tr>\n",
       "    <tr>\n",
       "      <th>1</th>\n",
       "      <td>1</td>\n",
       "      <td>1029</td>\n",
       "      <td>3.0</td>\n",
       "      <td>1260759179</td>\n",
       "    </tr>\n",
       "    <tr>\n",
       "      <th>2</th>\n",
       "      <td>1</td>\n",
       "      <td>1061</td>\n",
       "      <td>3.0</td>\n",
       "      <td>1260759182</td>\n",
       "    </tr>\n",
       "    <tr>\n",
       "      <th>3</th>\n",
       "      <td>1</td>\n",
       "      <td>1129</td>\n",
       "      <td>2.0</td>\n",
       "      <td>1260759185</td>\n",
       "    </tr>\n",
       "    <tr>\n",
       "      <th>4</th>\n",
       "      <td>1</td>\n",
       "      <td>1172</td>\n",
       "      <td>4.0</td>\n",
       "      <td>1260759205</td>\n",
       "    </tr>\n",
       "  </tbody>\n",
       "</table>\n",
       "</div>"
      ],
      "text/plain": [
       "   userId  movieId  rating   timestamp\n",
       "0       1       31     2.5  1260759144\n",
       "1       1     1029     3.0  1260759179\n",
       "2       1     1061     3.0  1260759182\n",
       "3       1     1129     2.0  1260759185\n",
       "4       1     1172     4.0  1260759205"
      ]
     },
     "execution_count": 21,
     "metadata": {},
     "output_type": "execute_result"
    }
   ],
   "source": [
    "print ('ratings')\n",
    "ratings.head()"
   ]
  },
  {
   "cell_type": "markdown",
   "metadata": {},
   "source": [
    "# Independent Recommendation\n",
    "In this case we are only interested in top 10 movies "
   ]
  },
  {
   "cell_type": "code",
   "execution_count": 4,
   "metadata": {},
   "outputs": [],
   "source": [
    "top5movies = ratings[['movieId','rating']].groupby('movieId').mean().sort_values('rating').tail(5)\n",
    "top5movies.head()\n",
    "top5movies['moviename'] = top5movies.index.map(lambda mid : movies.loc[mid,'title'])\n",
    "\n"
   ]
  },
  {
   "cell_type": "code",
   "execution_count": 47,
   "metadata": {},
   "outputs": [
    {
     "data": {
      "text/html": [
       "<div>\n",
       "<style scoped>\n",
       "    .dataframe tbody tr th:only-of-type {\n",
       "        vertical-align: middle;\n",
       "    }\n",
       "\n",
       "    .dataframe tbody tr th {\n",
       "        vertical-align: top;\n",
       "    }\n",
       "\n",
       "    .dataframe thead th {\n",
       "        text-align: right;\n",
       "    }\n",
       "</style>\n",
       "<table border=\"1\" class=\"dataframe\">\n",
       "  <thead>\n",
       "    <tr style=\"text-align: right;\">\n",
       "      <th></th>\n",
       "      <th>rating</th>\n",
       "      <th>moviename</th>\n",
       "    </tr>\n",
       "    <tr>\n",
       "      <th>movieId</th>\n",
       "      <th></th>\n",
       "      <th></th>\n",
       "    </tr>\n",
       "  </thead>\n",
       "  <tbody>\n",
       "    <tr>\n",
       "      <th>3165</th>\n",
       "      <td>5.0</td>\n",
       "      <td>Boiling Point (1993)</td>\n",
       "    </tr>\n",
       "    <tr>\n",
       "      <th>27792</th>\n",
       "      <td>5.0</td>\n",
       "      <td>Saddest Music in the World, The (2003)</td>\n",
       "    </tr>\n",
       "    <tr>\n",
       "      <th>3202</th>\n",
       "      <td>5.0</td>\n",
       "      <td>Even Dwarfs Started Small (Auch Zwerge haben k...</td>\n",
       "    </tr>\n",
       "    <tr>\n",
       "      <th>3216</th>\n",
       "      <td>5.0</td>\n",
       "      <td>Vampyros Lesbos (Vampiras, Las) (1971)</td>\n",
       "    </tr>\n",
       "    <tr>\n",
       "      <th>163949</th>\n",
       "      <td>5.0</td>\n",
       "      <td>The Beatles: Eight Days a Week - The Touring Y...</td>\n",
       "    </tr>\n",
       "  </tbody>\n",
       "</table>\n",
       "</div>"
      ],
      "text/plain": [
       "         rating                                          moviename\n",
       "movieId                                                           \n",
       "3165        5.0                               Boiling Point (1993)\n",
       "27792       5.0             Saddest Music in the World, The (2003)\n",
       "3202        5.0  Even Dwarfs Started Small (Auch Zwerge haben k...\n",
       "3216        5.0             Vampyros Lesbos (Vampiras, Las) (1971)\n",
       "163949      5.0  The Beatles: Eight Days a Week - The Touring Y..."
      ]
     },
     "execution_count": 47,
     "metadata": {},
     "output_type": "execute_result"
    }
   ],
   "source": [
    "top5movies"
   ]
  },
  {
   "cell_type": "markdown",
   "metadata": {},
   "source": [
    "## Collaborative Filtering - Item Item Similarity"
   ]
  },
  {
   "cell_type": "code",
   "execution_count": 5,
   "metadata": {},
   "outputs": [
    {
     "data": {
      "text/plain": [
       "movieId\n",
       "1         [7, 9, 13, 15, 19, 20, 23, 26, 30, 37, 43, 44,...\n",
       "2         [15, 19, 30, 32, 41, 47, 48, 49, 61, 68, 69, 7...\n",
       "3         [5, 19, 25, 44, 70, 75, 85, 100, 110, 112, 115...\n",
       "4         [19, 113, 128, 168, 182, 239, 391, 460, 461, 5...\n",
       "5         [15, 18, 44, 55, 69, 70, 85, 98, 110, 111, 113...\n",
       "6         [15, 17, 18, 19, 23, 24, 30, 34, 36, 39, 44, 5...\n",
       "7         [18, 19, 55, 70, 79, 80, 87, 88, 100, 110, 111...\n",
       "8                                  [30, 113, 128, 182, 614]\n",
       "9         [18, 19, 55, 70, 95, 110, 113, 182, 247, 254, ...\n",
       "10        [2, 4, 7, 15, 19, 21, 39, 47, 50, 56, 73, 74, ...\n",
       "11        [15, 19, 23, 30, 57, 58, 59, 63, 68, 86, 88, 9...\n",
       "12        [67, 70, 91, 157, 199, 247, 252, 284, 294, 358...\n",
       "13                 [182, 213, 287, 402, 516, 518, 564, 595]\n",
       "14        [15, 18, 19, 30, 70, 86, 102, 233, 256, 266, 2...\n",
       "15        [73, 213, 311, 390, 396, 409, 496, 564, 598, 6...\n",
       "16        [15, 19, 23, 30, 36, 38, 39, 56, 60, 63, 67, 7...\n",
       "17        [2, 9, 15, 18, 44, 57, 67, 70, 74, 86, 93, 99,...\n",
       "18        [18, 30, 36, 67, 86, 111, 112, 135, 154, 177, ...\n",
       "19        [15, 23, 32, 33, 58, 69, 73, 85, 86, 91, 92, 9...\n",
       "20        [23, 80, 113, 135, 168, 253, 311, 388, 416, 45...\n",
       "21        [7, 15, 19, 21, 28, 30, 34, 36, 39, 50, 56, 57...\n",
       "22        [15, 19, 39, 66, 105, 165, 177, 188, 242, 245,...\n",
       "23        [19, 30, 85, 91, 110, 150, 177, 199, 203, 254,...\n",
       "24        [23, 35, 95, 113, 119, 180, 185, 188, 207, 213...\n",
       "25        [15, 17, 18, 19, 30, 36, 44, 70, 73, 80, 86, 8...\n",
       "26                                    [9, 70, 86, 119, 294]\n",
       "27                      [135, 311, 412, 452, 487, 496, 641]\n",
       "28        [67, 86, 99, 102, 122, 212, 224, 280, 294, 311...\n",
       "29        [17, 19, 41, 56, 86, 90, 103, 119, 134, 148, 1...\n",
       "30        [86, 224, 236, 409, 492, 509, 516, 564, 608, 636]\n",
       "                                ...                        \n",
       "158238                                             [15, 73]\n",
       "158314                                                [655]\n",
       "158528                                                 [15]\n",
       "158956                                                [298]\n",
       "159093                                            [15, 277]\n",
       "159462                                                 [73]\n",
       "159690                                                 [15]\n",
       "159755                                                 [15]\n",
       "159858                                             [15, 73]\n",
       "159972                                                 [15]\n",
       "160080                                                 [15]\n",
       "160271                                                 [15]\n",
       "160438                                            [62, 287]\n",
       "160440                                                [624]\n",
       "160563                                            [15, 287]\n",
       "160565                                                 [15]\n",
       "160567                                                 [15]\n",
       "160590                                                 [56]\n",
       "160656                                                [547]\n",
       "160718                                                [547]\n",
       "161084                                                [547]\n",
       "161155                                                 [15]\n",
       "161594                                                 [73]\n",
       "161830                                                [624]\n",
       "161918                                                [624]\n",
       "161944                                                [287]\n",
       "162376                                                 [73]\n",
       "162542                                                [611]\n",
       "162672                                                [611]\n",
       "163949                                                [547]\n",
       "Name: userId, Length: 9066, dtype: object"
      ]
     },
     "execution_count": 5,
     "metadata": {},
     "output_type": "execute_result"
    }
   ],
   "source": [
    "movie_users = ratings[['movieId','rating','userId']].groupby('movieId')['userId'].apply(list)\n",
    "movie_users\n"
   ]
  },
  {
   "cell_type": "code",
   "execution_count": 80,
   "metadata": {},
   "outputs": [
    {
     "name": "stdout",
     "output_type": "stream",
     "text": [
      "You searched :  Aliens (1986)\n",
      "\n",
      " Top Results : \n",
      "101 Star Wars: Episode V - The Empire Strikes Back (1980)\n",
      "100 Star Wars: Episode IV - A New Hope (1977)\n",
      "94 Back to the Future (1985)\n",
      "93 Raiders of the Lost Ark (Indiana Jones and the Raiders of the Lost Ark) (1981)\n",
      "91 Matrix, The (1999)\n"
     ]
    }
   ],
   "source": [
    "def find_similar(movieId):\n",
    "    movie_users_cp = movie_users\n",
    "    users = movie_users_cp[movieId]\n",
    "    commons = movie_users_cp.map(lambda x : len(set(x).intersection(set(users))))\n",
    "    #print (commons.sort_values()[-6:-1])\n",
    "    top_results=commons.sort_values()[-2:-7:-1]\n",
    "    print ('You searched : ',movies.loc[movieId,'title'])\n",
    "    print ('\\n Top Results : ')\n",
    "    for topId,count in top_results.iteritems():\n",
    "        print (count,movies.loc[topId,'title'])\n",
    "    \n",
    "find_similar(1200)"
   ]
  },
  {
   "cell_type": "code",
   "execution_count": 101,
   "metadata": {},
   "outputs": [],
   "source": [
    "actual = ratings.groupby('movieId').agg({'userId': lambda x : list(x),\n",
    "                                        'rating': lambda x : list(x)})\n",
    "actual_group = ratings.groupby('movieId')"
   ]
  },
  {
   "cell_type": "code",
   "execution_count": 100,
   "metadata": {},
   "outputs": [
    {
     "data": {
      "text/html": [
       "<div>\n",
       "<style scoped>\n",
       "    .dataframe tbody tr th:only-of-type {\n",
       "        vertical-align: middle;\n",
       "    }\n",
       "\n",
       "    .dataframe tbody tr th {\n",
       "        vertical-align: top;\n",
       "    }\n",
       "\n",
       "    .dataframe thead th {\n",
       "        text-align: right;\n",
       "    }\n",
       "</style>\n",
       "<table border=\"1\" class=\"dataframe\">\n",
       "  <thead>\n",
       "    <tr style=\"text-align: right;\">\n",
       "      <th></th>\n",
       "      <th>rating</th>\n",
       "      <th>userId</th>\n",
       "    </tr>\n",
       "    <tr>\n",
       "      <th>movieId</th>\n",
       "      <th></th>\n",
       "      <th></th>\n",
       "    </tr>\n",
       "  </thead>\n",
       "  <tbody>\n",
       "    <tr>\n",
       "      <th>1</th>\n",
       "      <td>[3.0, 4.0, 5.0, 2.0, 3.0, 3.5, 3.0, 5.0, 4.0, ...</td>\n",
       "      <td>[7, 9, 13, 15, 19, 20, 23, 26, 30, 37, 43, 44,...</td>\n",
       "    </tr>\n",
       "    <tr>\n",
       "      <th>2</th>\n",
       "      <td>[2.0, 3.0, 2.0, 4.0, 3.5, 5.0, 3.5, 5.0, 3.5, ...</td>\n",
       "      <td>[15, 19, 30, 32, 41, 47, 48, 49, 61, 68, 69, 7...</td>\n",
       "    </tr>\n",
       "    <tr>\n",
       "      <th>3</th>\n",
       "      <td>[4.0, 3.0, 3.0, 5.0, 5.0, 3.0, 2.0, 4.0, 4.0, ...</td>\n",
       "      <td>[5, 19, 25, 44, 70, 75, 85, 100, 110, 112, 115...</td>\n",
       "    </tr>\n",
       "    <tr>\n",
       "      <th>4</th>\n",
       "      <td>[3.0, 3.0, 3.0, 3.0, 3.0, 3.0, 2.0, 3.5, 1.5, ...</td>\n",
       "      <td>[19, 113, 128, 168, 182, 239, 391, 460, 461, 5...</td>\n",
       "    </tr>\n",
       "    <tr>\n",
       "      <th>5</th>\n",
       "      <td>[4.5, 3.0, 3.0, 3.0, 5.0, 5.0, 3.0, 3.0, 4.0, ...</td>\n",
       "      <td>[15, 18, 44, 55, 69, 70, 85, 98, 110, 111, 113...</td>\n",
       "    </tr>\n",
       "  </tbody>\n",
       "</table>\n",
       "</div>"
      ],
      "text/plain": [
       "                                                    rating  \\\n",
       "movieId                                                      \n",
       "1        [3.0, 4.0, 5.0, 2.0, 3.0, 3.5, 3.0, 5.0, 4.0, ...   \n",
       "2        [2.0, 3.0, 2.0, 4.0, 3.5, 5.0, 3.5, 5.0, 3.5, ...   \n",
       "3        [4.0, 3.0, 3.0, 5.0, 5.0, 3.0, 2.0, 4.0, 4.0, ...   \n",
       "4        [3.0, 3.0, 3.0, 3.0, 3.0, 3.0, 2.0, 3.5, 1.5, ...   \n",
       "5        [4.5, 3.0, 3.0, 3.0, 5.0, 5.0, 3.0, 3.0, 4.0, ...   \n",
       "\n",
       "                                                    userId  \n",
       "movieId                                                     \n",
       "1        [7, 9, 13, 15, 19, 20, 23, 26, 30, 37, 43, 44,...  \n",
       "2        [15, 19, 30, 32, 41, 47, 48, 49, 61, 68, 69, 7...  \n",
       "3        [5, 19, 25, 44, 70, 75, 85, 100, 110, 112, 115...  \n",
       "4        [19, 113, 128, 168, 182, 239, 391, 460, 461, 5...  \n",
       "5        [15, 18, 44, 55, 69, 70, 85, 98, 110, 111, 113...  "
      ]
     },
     "execution_count": 100,
     "metadata": {},
     "output_type": "execute_result"
    }
   ],
   "source": [
    "actual.head(5)"
   ]
  },
  {
   "cell_type": "code",
   "execution_count": 115,
   "metadata": {},
   "outputs": [
    {
     "data": {
      "text/plain": [
       "userId\n",
       "7     3.0\n",
       "9     4.0\n",
       "13    5.0\n",
       "15    2.0\n",
       "19    3.0\n",
       "Name: rating, dtype: float64"
      ]
     },
     "execution_count": 115,
     "metadata": {},
     "output_type": "execute_result"
    }
   ],
   "source": [
    "user_df1 = actual_group.get_group(1)[['userId','rating']].set_index('userId')\n",
    "user_df1['rating'][:5]"
   ]
  },
  {
   "cell_type": "code",
   "execution_count": 139,
   "metadata": {},
   "outputs": [],
   "source": [
    "import numpy as np\n",
    "def get_similarity(movieId1,movieId2):\n",
    "    user_df1 = actual_group.get_group(movieId1)[['userId','rating']].set_index('userId')\n",
    "    user_series1=user_df1['rating']\n",
    "    user_df2 = actual_group.get_group(movieId2)[['userId','rating']].set_index('userId')\n",
    "    user_series2=user_df2['rating']\n",
    "    combined_df = pd.DataFrame({'movie1':user_series1,'movie2':user_series2})\n",
    "    combined_df.dropna(inplace=True)\n",
    "    return np.mean(np.array(combined_df['movie1']-2.5)*np.array(combined_df['movie2']-2.5))\n",
    " \n",
    "sim_dict={}\n",
    "def get_similar(movieId):\n",
    "    sim_dict={key:get_similarity(movieId,key) for key in actual_group.groups.keys()}\n",
    "    print(pd.Series(sim_dict).dropna().sort_values()[-5:])"
   ]
  },
  {
   "cell_type": "code",
   "execution_count": 140,
   "metadata": {},
   "outputs": [
    {
     "name": "stderr",
     "output_type": "stream",
     "text": [
      "C:\\Users\\jaley\\AppData\\Local\\conda\\conda\\envs\\condaenv\\lib\\site-packages\\numpy\\core\\fromnumeric.py:2920: RuntimeWarning: Mean of empty slice.\n",
      "  out=out, **kwargs)\n",
      "C:\\Users\\jaley\\AppData\\Local\\conda\\conda\\envs\\condaenv\\lib\\site-packages\\numpy\\core\\_methods.py:85: RuntimeWarning: invalid value encountered in double_scalars\n",
      "  ret = ret.dtype.type(ret / rcount)\n"
     ]
    },
    {
     "name": "stdout",
     "output_type": "stream",
     "text": [
      "95313    6.25\n",
      "95377    6.25\n",
      "264      6.25\n",
      "36931    6.25\n",
      "3718     6.25\n",
      "dtype: float64\n"
     ]
    }
   ],
   "source": [
    "get_similar(1)"
   ]
  },
  {
   "cell_type": "code",
   "execution_count": null,
   "metadata": {},
   "outputs": [],
   "source": []
  }
 ],
 "metadata": {
  "kernelspec": {
   "display_name": "Python 3",
   "language": "python",
   "name": "python3"
  },
  "language_info": {
   "codemirror_mode": {
    "name": "ipython",
    "version": 3
   },
   "file_extension": ".py",
   "mimetype": "text/x-python",
   "name": "python",
   "nbconvert_exporter": "python",
   "pygments_lexer": "ipython3",
   "version": "3.5.4"
  }
 },
 "nbformat": 4,
 "nbformat_minor": 2
}
